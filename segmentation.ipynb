{
 "cells": [
  {
   "cell_type": "markdown",
   "metadata": {},
   "source": [
    "# Fingerprint segmentation module"
   ]
  },
  {
   "cell_type": "code",
   "execution_count": null,
   "metadata": {},
   "outputs": [],
   "source": [
    "import numpy as np\n",
    "import cv2 as cv\n",
    "from utils import show\n",
    "from ipywidgets import interact\n",
    "import time\n",
    "from IPython.display import clear_output\n",
    "import json\n",
    "import segmentation"
   ]
  },
  {
   "cell_type": "code",
   "execution_count": null,
   "metadata": {},
   "outputs": [],
   "source": [
    "# Paths\n",
    "PATH_FVC = '../Datasets/'\n",
    "PATH_PARAMS = '../parameters/segmentation/'\n",
    "PATH_GT = '../Datasets/SegmentationBenchmark/GroundTruth/'\n",
    "PATH_TESTS = '../test/'"
   ]
  },
  {
   "cell_type": "markdown",
   "metadata": {},
   "source": [
    "## 1. Basic examples"
   ]
  },
  {
   "cell_type": "markdown",
   "metadata": {},
   "source": [
    "Example: fingerprint segmentation using the default parameters."
   ]
  },
  {
   "cell_type": "code",
   "execution_count": null,
   "metadata": {},
   "outputs": [],
   "source": [
    "fingerprint = cv.imread(PATH_FVC + 'FVC2000/DB2_B/101_1.png', cv.IMREAD_GRAYSCALE)\n",
    "mask = segmentation.run(fingerprint)\n",
    "show(fingerprint, mask, cv.merge((fingerprint, mask, fingerprint)))"
   ]
  },
  {
   "cell_type": "markdown",
   "metadata": {},
   "source": [
    "Example: segmentation with parameters loaded from file."
   ]
  },
  {
   "cell_type": "code",
   "execution_count": null,
   "metadata": {},
   "outputs": [],
   "source": [
    "parameters = segmentation.load_parameters(PATH_PARAMS + 'FVC2000_DB3_B_best_params.txt')\n",
    "fingerprint = cv.imread(PATH_FVC + 'FVC2000/DB3_B/101_1.png', cv.IMREAD_GRAYSCALE)\n",
    "mask = segmentation.run(fingerprint, parameters)\n",
    "show(fingerprint, mask, cv.merge((fingerprint, mask, fingerprint)))"
   ]
  },
  {
   "cell_type": "markdown",
   "metadata": {},
   "source": [
    "Showing intermediate steps of the segmentation algorithm:"
   ]
  },
  {
   "cell_type": "code",
   "execution_count": null,
   "metadata": {},
   "outputs": [],
   "source": [
    "mask, intermediate_results = segmentation.run(fingerprint, parameters, True)\n",
    "show(fingerprint, *intermediate_results, mask)"
   ]
  },
  {
   "cell_type": "markdown",
   "metadata": {},
   "source": [
    "Testing the effect of the various parameters:"
   ]
  },
  {
   "cell_type": "code",
   "execution_count": null,
   "metadata": {
    "scrolled": false
   },
   "outputs": [],
   "source": [
    "@interact(window_size=(3,21,2), percentile=(50, 100), threshold=(0,1,0.01), closing_count=(0,29), opening_count=(0,29) )\n",
    "def test_parameters(window_size=parameters.window_size, percentile=parameters.percentile, \n",
    "                    threshold=parameters.threshold, closing_count=parameters.closing_count, \n",
    "                    opening_count=parameters.opening_count):\n",
    "    p = segmentation.Parameters(window_size, percentile, threshold, closing_count, opening_count)\n",
    "    mask, intermediate_results = segmentation.run(fingerprint, p, True)\n",
    "    show(fingerprint, *intermediate_results, cv.merge((fingerprint, mask, fingerprint)), max_per_row=5)"
   ]
  },
  {
   "cell_type": "markdown",
   "metadata": {},
   "source": [
    "## 2. Comparison with the groud truth"
   ]
  },
  {
   "cell_type": "markdown",
   "metadata": {},
   "source": [
    "Comparing a segmentation result with the corresponding ground truth mask loaded from file."
   ]
  },
  {
   "cell_type": "code",
   "execution_count": null,
   "metadata": {},
   "outputs": [],
   "source": [
    "gt_mask = cv.bitwise_not(cv.imread(PATH_GT + 'FVC2000_DB3_IM_101_1seg.png', cv.IMREAD_GRAYSCALE))\n",
    "show(fingerprint, mask, gt_mask, cv.bitwise_xor(mask, gt_mask))"
   ]
  },
  {
   "cell_type": "markdown",
   "metadata": {},
   "source": [
    "For each fingerprint, the error is defined as the percentage of misclassified pixels with respect to the corresponding ground truth:"
   ]
  },
  {
   "cell_type": "code",
   "execution_count": null,
   "metadata": {},
   "outputs": [],
   "source": [
    "def segmentation_error(mask, gt_mask):\n",
    "    return np.count_nonzero(gt_mask - mask) / mask.size * 100\n",
    "\n",
    "print(f'Segmentation error of the previous example = {segmentation_error(mask, gt_mask):.2f}%')"
   ]
  },
  {
   "cell_type": "markdown",
   "metadata": {},
   "source": [
    "The following code allows testing the segmentation algorithm on FVC2000/FVC2002/FVC2004 databases (sets \"A\"), using sets \"B\" for optimizing the parameters."
   ]
  },
  {
   "cell_type": "code",
   "execution_count": null,
   "metadata": {},
   "outputs": [],
   "source": [
    "TRAIN_DATASETS = [(y, db, \"B\") for y in range(2000, 2006, 2) for db in range(1,5)]\n",
    "TEST_DATASETS = [(y, db, \"A\") for y in range(2000, 2006, 2) for db in range(1,5)]\n",
    "\n",
    "def load_db(year, db, subset):\n",
    "    i1, i2 = (1, 100) if subset==\"A\" else (101, 110)\n",
    "    j1, j2 = 1, 8\n",
    "    return [(i, j, cv.imread(f'{PATH_FVC}FVC{year}/DB{db}_{subset}/{i}_{j}.png', cv.IMREAD_GRAYSCALE)) \n",
    "            for i in range(i1, i2+1) for j in range(j1, j2+1)]\n",
    "\n",
    "def load_gt(year, db, subset):\n",
    "    i1, i2 = (1, 100) if subset==\"A\" else (101, 110)\n",
    "    j1, j2 = 1, 8\n",
    "    return [cv.bitwise_not(cv.imread(f'{PATH_GT}/FVC{year}_DB{db}_IM_{i}_{j}seg.png', \n",
    "                                       cv.IMREAD_GRAYSCALE)) for i in range(i1, i2+1) for j in range(j1, j2+1)]\n",
    "\n",
    "def segment_all_db(images, parameters):\n",
    "    return [(i, j, segmentation.run(f, parameters)) for i, j, f in images]\n",
    "\n",
    "def calculate_errors(masks, gt):\n",
    "    results = [(i, j, segmentation_error(m, x)) for (i, j, m), x in zip(masks, gt)]\n",
    "    errors = np.array([e for _, _, e in results])\n",
    "    return errors, results\n",
    "\n",
    "def average_err_on_db(images, gt, parameters):    \n",
    "    return np.mean(calculate_errors(segment_all_db(images, parameters), gt)[0])\n",
    "\n",
    "def run_test(year, db, subset, parameters):\n",
    "    images = load_db(year, db, subset)\n",
    "    gt = load_gt(year, db, subset)\n",
    "    start = time.time()\n",
    "    masks = segment_all_db(images, parameters)\n",
    "    elapsed = time.time() - start\n",
    "    errors, results = calculate_errors(masks, gt)\n",
    "    avg_err = np.mean(errors)\n",
    "    print(f'Test on FVC{year} DB{db}_{subset} ({len(images)} images). '\\\n",
    "          f'Error (avg/min/max) = {avg_err:5.2f}% / {errors.min():5.2f}% / {errors.max():5.2f}% '\\\n",
    "          f'Total time: {elapsed:5.2f} s Avg: {elapsed/len(images):.4f} s')\n",
    "    \n",
    "    with open(f'{PATH_TESTS}FVC{year}_DB{db}_{subset}_res.txt', 'w') as file:\n",
    "        json.dump(results, file)\n",
    "    \n",
    "    return avg_err"
   ]
  },
  {
   "cell_type": "code",
   "execution_count": null,
   "metadata": {},
   "outputs": [],
   "source": [
    "def run_tests_with_best_parameters(year, db):\n",
    "    parameters = segmentation.load_parameters(f'{PATH_PARAMS}FVC{year}_DB{db}_B_best_params.txt')\n",
    "    return run_test(year, db, 'A', parameters)"
   ]
  },
  {
   "cell_type": "markdown",
   "metadata": {},
   "source": [
    "Test on all sets \"A\" (12 databases, each containing 800 fingerprints) and calculates the average error over all the databases."
   ]
  },
  {
   "cell_type": "code",
   "execution_count": null,
   "metadata": {},
   "outputs": [],
   "source": [
    "avg = np.mean(np.array([run_tests_with_best_parameters(y, db) for y, db, _ in TEST_DATASETS]))\n",
    "print(f'Avg: {avg:.2f}%')"
   ]
  },
  {
   "cell_type": "markdown",
   "metadata": {},
   "source": [
    "Error analysis: for each databases, fingerprints are sorted according to the error rate in the previous test."
   ]
  },
  {
   "cell_type": "code",
   "execution_count": null,
   "metadata": {},
   "outputs": [],
   "source": [
    "@interact(year=[2000,2002,2004], db=[1,2,3,4])\n",
    "def choose_db(year, db):\n",
    "    subset = 'A'\n",
    "    with open(f'{PATH_TESTS}FVC{year}_DB{db}_{subset}_res.txt', 'r') as filehandle:\n",
    "        results = json.load(filehandle)\n",
    "\n",
    "    results = sorted(results, key=lambda r: r[2])\n",
    "    parameters = segmentation.load_parameters(f'{PATH_PARAMS}FVC{year}_DB{db}_B_best_params.txt')\n",
    "    \n",
    "    @interact(i=(0, len(results)-1))\n",
    "    def show_result(i=0):\n",
    "        i, j, err = results[i]\n",
    "        img = cv.imread(f'{PATH_FVC}FVC{year}/DB{db}_{subset}/{i}_{j}.png', cv.IMREAD_GRAYSCALE)\n",
    "        gt = cv.bitwise_not(cv.imread(f'{PATH_GT}FVC{year}_DB{db}_IM_{i}_{j}seg.png', cv.IMREAD_GRAYSCALE))\n",
    "        mask = segmentation.run(img, parameters)\n",
    "        v_mask = cv.merge((gt, mask, cv.bitwise_not(img)))\n",
    "        show((img,f'{i}_{j}'), (mask, 'Result'), (gt, 'Ground truth'), (v_mask, f'Error = {err:.2f}%'))"
   ]
  },
  {
   "cell_type": "markdown",
   "metadata": {},
   "source": [
    "## 3. Parameter optimization"
   ]
  },
  {
   "cell_type": "markdown",
   "metadata": {},
   "source": [
    "Optimizazion of the parameters on each FVC database set \"B\":"
   ]
  },
  {
   "cell_type": "code",
   "execution_count": null,
   "metadata": {},
   "outputs": [],
   "source": [
    "def optimize_parameters_in_ranges(year, db, subset, images, gt, best_parameters, ranges):    \n",
    "    min_err = 100 if best_parameters is None else average_err_on_db(images, gt, best_parameters)\n",
    "    for w in ranges[0]:\n",
    "        for p in ranges[1]:  \n",
    "            for t in ranges[2]:\n",
    "                for cc in ranges[3]:\n",
    "                    for oc in ranges[4]:\n",
    "                        parameters = segmentation.Parameters(w, p, t, cc, oc)\n",
    "                        e = average_err_on_db(images, gt, parameters)                \n",
    "                        if e < min_err:\n",
    "                            min_err = e\n",
    "                            best_parameters = parameters\n",
    "                            # saves best parameters to file\n",
    "                            best_parameters.save(f'../test/FVC{year}_DB{db}_{subset}_params.txt')\n",
    "                        print(f'{year}-{db}-{subset}: {len(images)} fingerprints')\n",
    "                        print(f'{parameters}\\n-> {e:.2f}%\\n(best: {best_parameters}\\n-> {min_err:.2f}%)')\n",
    "                        clear_output(True)\n",
    "    return best_parameters\n",
    "\n",
    "def optimize_parameters(year, db, subset):\n",
    "    images = load_db(year, db, subset)\n",
    "    gt = load_gt(year, db, subset)\n",
    "    p = None\n",
    "    try:\n",
    "        p = segmentation.load_parameters(f'{PATH_TESTS}FVC{year}_DB{db}_B_params.txt')\n",
    "        print(f'Loaded best parameters: {p}')\n",
    "    except:\n",
    "        print('Best parameters not found')\n",
    "    p = optimize_parameters_in_ranges(year, db, subset, images, gt, p,\n",
    "                                      [\n",
    "                                          range(3,19,2),\n",
    "                                          [85,90,95],\n",
    "                                          [0.15,0.20,0.25,0.30],\n",
    "                                          [7],\n",
    "                                          [13],\n",
    "                                      ])\n",
    "    p = optimize_parameters_in_ranges(year, db, subset, images, gt, p,\n",
    "                                      [\n",
    "                                          [p.window_size],\n",
    "                                          range(75,100,5),\n",
    "                                          np.arange(0.05,0.4,0.01),\n",
    "                                          [7],\n",
    "                                          [13],\n",
    "                                      ])\n",
    "    p = optimize_parameters_in_ranges(year, db, subset, images, gt, p,\n",
    "                                      [\n",
    "                                          [p.window_size],\n",
    "                                          [p.percentile],\n",
    "                                          [p.threshold],\n",
    "                                          range(0,15,3),\n",
    "                                          range(0,24,3),\n",
    "                                      ])"
   ]
  },
  {
   "cell_type": "code",
   "execution_count": null,
   "metadata": {},
   "outputs": [],
   "source": [
    "for y, db, subset in TRAIN_DATASETS:\n",
    "    optimize_parameters(y, db, subset)"
   ]
  },
  {
   "cell_type": "code",
   "execution_count": null,
   "metadata": {},
   "outputs": [],
   "source": []
  }
 ],
 "metadata": {
  "kernelspec": {
   "display_name": "Python 3",
   "language": "python",
   "name": "python3"
  },
  "language_info": {
   "codemirror_mode": {
    "name": "ipython",
    "version": 3
   },
   "file_extension": ".py",
   "mimetype": "text/x-python",
   "name": "python",
   "nbconvert_exporter": "python",
   "pygments_lexer": "ipython3",
   "version": "3.8.1"
  }
 },
 "nbformat": 4,
 "nbformat_minor": 4
}
